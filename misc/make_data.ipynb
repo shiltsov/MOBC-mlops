{
 "cells": [
  {
   "cell_type": "code",
   "execution_count": 3,
   "id": "5c96999a-3786-4ca6-bba9-378b43da9037",
   "metadata": {},
   "outputs": [],
   "source": [
    "from tensorflow.keras.datasets import mnist\n",
    "import numpy as np"
   ]
  },
  {
   "cell_type": "code",
   "execution_count": 5,
   "id": "58a01655-6303-4deb-b255-cb240b1e594e",
   "metadata": {},
   "outputs": [],
   "source": [
    "(mnist_train, y_train), (mnist_test, y_test) = mnist.load_data()\n",
    "        \n",
    "    \n",
    "np.save('data/X_train.npy', mnist_train)\n",
    "np.save('data/y_train.npy', y_train)\n",
    "    \n",
    "np.save('data/X_test.npy', mnist_test)\n",
    "np.save('data/y_test.npy', y_test)"
   ]
  },
  {
   "cell_type": "code",
   "execution_count": null,
   "id": "91dca0e4-48fb-409e-a62f-b22542d7fc0a",
   "metadata": {},
   "outputs": [],
   "source": []
  }
 ],
 "metadata": {
  "kernelspec": {
   "display_name": "Python 3 (ipykernel)",
   "language": "python",
   "name": "python3"
  },
  "language_info": {
   "codemirror_mode": {
    "name": "ipython",
    "version": 3
   },
   "file_extension": ".py",
   "mimetype": "text/x-python",
   "name": "python",
   "nbconvert_exporter": "python",
   "pygments_lexer": "ipython3",
   "version": "3.11.5"
  }
 },
 "nbformat": 4,
 "nbformat_minor": 5
}
